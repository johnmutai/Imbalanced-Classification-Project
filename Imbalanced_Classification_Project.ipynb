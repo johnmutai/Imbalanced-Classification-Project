{
  "nbformat": 4,
  "nbformat_minor": 0,
  "metadata": {
    "colab": {
      "provenance": []
    },
    "kernelspec": {
      "name": "python3",
      "display_name": "Python 3"
    },
    "language_info": {
      "name": "python"
    }
  },
  "cells": [
    {
      "cell_type": "markdown",
      "source": [
        "# Imbalanced Classification Project"
      ],
      "metadata": {
        "id": "bHrW7nDz8q-u"
      }
    },
    {
      "cell_type": "markdown",
      "source": [
        "## 1. Import the required libraries and load data"
      ],
      "metadata": {
        "id": "8HvgGqt1psqU"
      }
    },
    {
      "cell_type": "code",
      "execution_count": 23,
      "metadata": {
        "id": "oqnk-wiGli1D"
      },
      "outputs": [],
      "source": [
        "import pandas as pd\n",
        "from sklearn.tree import DecisionTreeClassifier\n",
        "from sklearn.ensemble import RandomForestClassifier\n",
        "from sklearn.linear_model import LogisticRegression\n",
        "from sklearn.model_selection import train_test_split\n",
        "from sklearn.metrics import accuracy_score\n",
        "from sklearn.metrics import f1_score\n",
        "from sklearn.utils import shuffle\n",
        "from sklearn.metrics import roc_auc_score\n",
        "\n",
        "churn = pd.read_csv(\"https://bit.ly/2XZK7Bo\")\n",
        "\n"
      ]
    },
    {
      "cell_type": "markdown",
      "source": [
        "## 2. Data cleaning and Preparation:\n",
        "a. View first few records\n",
        "b. Check the shape of data\n",
        "c. Check for and deal with missing values\n",
        "d. Check for and deal with duplicates"
      ],
      "metadata": {
        "id": "-bZjfoT8qTzr"
      }
    },
    {
      "cell_type": "code",
      "source": [
        "# Check the first few records\n",
        "\n",
        "churn.head()"
      ],
      "metadata": {
        "colab": {
          "base_uri": "https://localhost:8080/",
          "height": 270
        },
        "id": "o2S_5mWtqBLa",
        "outputId": "ae716618-97d7-4fce-dc66-91d22af7936a"
      },
      "execution_count": 24,
      "outputs": [
        {
          "output_type": "execute_result",
          "data": {
            "text/plain": [
              "   RowNumber  CustomerId   Surname  CreditScore Geography  Gender  Age  \\\n",
              "0          1    15634602  Hargrave          619    France  Female   42   \n",
              "1          2    15647311      Hill          608     Spain  Female   41   \n",
              "2          3    15619304      Onio          502    France  Female   42   \n",
              "3          4    15701354      Boni          699    France  Female   39   \n",
              "4          5    15737888  Mitchell          850     Spain  Female   43   \n",
              "\n",
              "   Tenure    Balance  NumOfProducts  HasCrCard  IsActiveMember  \\\n",
              "0     2.0       0.00              1          1               1   \n",
              "1     1.0   83807.86              1          0               1   \n",
              "2     8.0  159660.80              3          1               0   \n",
              "3     1.0       0.00              2          0               0   \n",
              "4     2.0  125510.82              1          1               1   \n",
              "\n",
              "   EstimatedSalary  Exited  \n",
              "0        101348.88       1  \n",
              "1        112542.58       0  \n",
              "2        113931.57       1  \n",
              "3         93826.63       0  \n",
              "4         79084.10       0  "
            ],
            "text/html": [
              "\n",
              "  <div id=\"df-45364f83-8cc6-426f-b2e6-7fb72f7b5f34\">\n",
              "    <div class=\"colab-df-container\">\n",
              "      <div>\n",
              "<style scoped>\n",
              "    .dataframe tbody tr th:only-of-type {\n",
              "        vertical-align: middle;\n",
              "    }\n",
              "\n",
              "    .dataframe tbody tr th {\n",
              "        vertical-align: top;\n",
              "    }\n",
              "\n",
              "    .dataframe thead th {\n",
              "        text-align: right;\n",
              "    }\n",
              "</style>\n",
              "<table border=\"1\" class=\"dataframe\">\n",
              "  <thead>\n",
              "    <tr style=\"text-align: right;\">\n",
              "      <th></th>\n",
              "      <th>RowNumber</th>\n",
              "      <th>CustomerId</th>\n",
              "      <th>Surname</th>\n",
              "      <th>CreditScore</th>\n",
              "      <th>Geography</th>\n",
              "      <th>Gender</th>\n",
              "      <th>Age</th>\n",
              "      <th>Tenure</th>\n",
              "      <th>Balance</th>\n",
              "      <th>NumOfProducts</th>\n",
              "      <th>HasCrCard</th>\n",
              "      <th>IsActiveMember</th>\n",
              "      <th>EstimatedSalary</th>\n",
              "      <th>Exited</th>\n",
              "    </tr>\n",
              "  </thead>\n",
              "  <tbody>\n",
              "    <tr>\n",
              "      <th>0</th>\n",
              "      <td>1</td>\n",
              "      <td>15634602</td>\n",
              "      <td>Hargrave</td>\n",
              "      <td>619</td>\n",
              "      <td>France</td>\n",
              "      <td>Female</td>\n",
              "      <td>42</td>\n",
              "      <td>2.0</td>\n",
              "      <td>0.00</td>\n",
              "      <td>1</td>\n",
              "      <td>1</td>\n",
              "      <td>1</td>\n",
              "      <td>101348.88</td>\n",
              "      <td>1</td>\n",
              "    </tr>\n",
              "    <tr>\n",
              "      <th>1</th>\n",
              "      <td>2</td>\n",
              "      <td>15647311</td>\n",
              "      <td>Hill</td>\n",
              "      <td>608</td>\n",
              "      <td>Spain</td>\n",
              "      <td>Female</td>\n",
              "      <td>41</td>\n",
              "      <td>1.0</td>\n",
              "      <td>83807.86</td>\n",
              "      <td>1</td>\n",
              "      <td>0</td>\n",
              "      <td>1</td>\n",
              "      <td>112542.58</td>\n",
              "      <td>0</td>\n",
              "    </tr>\n",
              "    <tr>\n",
              "      <th>2</th>\n",
              "      <td>3</td>\n",
              "      <td>15619304</td>\n",
              "      <td>Onio</td>\n",
              "      <td>502</td>\n",
              "      <td>France</td>\n",
              "      <td>Female</td>\n",
              "      <td>42</td>\n",
              "      <td>8.0</td>\n",
              "      <td>159660.80</td>\n",
              "      <td>3</td>\n",
              "      <td>1</td>\n",
              "      <td>0</td>\n",
              "      <td>113931.57</td>\n",
              "      <td>1</td>\n",
              "    </tr>\n",
              "    <tr>\n",
              "      <th>3</th>\n",
              "      <td>4</td>\n",
              "      <td>15701354</td>\n",
              "      <td>Boni</td>\n",
              "      <td>699</td>\n",
              "      <td>France</td>\n",
              "      <td>Female</td>\n",
              "      <td>39</td>\n",
              "      <td>1.0</td>\n",
              "      <td>0.00</td>\n",
              "      <td>2</td>\n",
              "      <td>0</td>\n",
              "      <td>0</td>\n",
              "      <td>93826.63</td>\n",
              "      <td>0</td>\n",
              "    </tr>\n",
              "    <tr>\n",
              "      <th>4</th>\n",
              "      <td>5</td>\n",
              "      <td>15737888</td>\n",
              "      <td>Mitchell</td>\n",
              "      <td>850</td>\n",
              "      <td>Spain</td>\n",
              "      <td>Female</td>\n",
              "      <td>43</td>\n",
              "      <td>2.0</td>\n",
              "      <td>125510.82</td>\n",
              "      <td>1</td>\n",
              "      <td>1</td>\n",
              "      <td>1</td>\n",
              "      <td>79084.10</td>\n",
              "      <td>0</td>\n",
              "    </tr>\n",
              "  </tbody>\n",
              "</table>\n",
              "</div>\n",
              "      <button class=\"colab-df-convert\" onclick=\"convertToInteractive('df-45364f83-8cc6-426f-b2e6-7fb72f7b5f34')\"\n",
              "              title=\"Convert this dataframe to an interactive table.\"\n",
              "              style=\"display:none;\">\n",
              "        \n",
              "  <svg xmlns=\"http://www.w3.org/2000/svg\" height=\"24px\"viewBox=\"0 0 24 24\"\n",
              "       width=\"24px\">\n",
              "    <path d=\"M0 0h24v24H0V0z\" fill=\"none\"/>\n",
              "    <path d=\"M18.56 5.44l.94 2.06.94-2.06 2.06-.94-2.06-.94-.94-2.06-.94 2.06-2.06.94zm-11 1L8.5 8.5l.94-2.06 2.06-.94-2.06-.94L8.5 2.5l-.94 2.06-2.06.94zm10 10l.94 2.06.94-2.06 2.06-.94-2.06-.94-.94-2.06-.94 2.06-2.06.94z\"/><path d=\"M17.41 7.96l-1.37-1.37c-.4-.4-.92-.59-1.43-.59-.52 0-1.04.2-1.43.59L10.3 9.45l-7.72 7.72c-.78.78-.78 2.05 0 2.83L4 21.41c.39.39.9.59 1.41.59.51 0 1.02-.2 1.41-.59l7.78-7.78 2.81-2.81c.8-.78.8-2.07 0-2.86zM5.41 20L4 18.59l7.72-7.72 1.47 1.35L5.41 20z\"/>\n",
              "  </svg>\n",
              "      </button>\n",
              "      \n",
              "  <style>\n",
              "    .colab-df-container {\n",
              "      display:flex;\n",
              "      flex-wrap:wrap;\n",
              "      gap: 12px;\n",
              "    }\n",
              "\n",
              "    .colab-df-convert {\n",
              "      background-color: #E8F0FE;\n",
              "      border: none;\n",
              "      border-radius: 50%;\n",
              "      cursor: pointer;\n",
              "      display: none;\n",
              "      fill: #1967D2;\n",
              "      height: 32px;\n",
              "      padding: 0 0 0 0;\n",
              "      width: 32px;\n",
              "    }\n",
              "\n",
              "    .colab-df-convert:hover {\n",
              "      background-color: #E2EBFA;\n",
              "      box-shadow: 0px 1px 2px rgba(60, 64, 67, 0.3), 0px 1px 3px 1px rgba(60, 64, 67, 0.15);\n",
              "      fill: #174EA6;\n",
              "    }\n",
              "\n",
              "    [theme=dark] .colab-df-convert {\n",
              "      background-color: #3B4455;\n",
              "      fill: #D2E3FC;\n",
              "    }\n",
              "\n",
              "    [theme=dark] .colab-df-convert:hover {\n",
              "      background-color: #434B5C;\n",
              "      box-shadow: 0px 1px 3px 1px rgba(0, 0, 0, 0.15);\n",
              "      filter: drop-shadow(0px 1px 2px rgba(0, 0, 0, 0.3));\n",
              "      fill: #FFFFFF;\n",
              "    }\n",
              "  </style>\n",
              "\n",
              "      <script>\n",
              "        const buttonEl =\n",
              "          document.querySelector('#df-45364f83-8cc6-426f-b2e6-7fb72f7b5f34 button.colab-df-convert');\n",
              "        buttonEl.style.display =\n",
              "          google.colab.kernel.accessAllowed ? 'block' : 'none';\n",
              "\n",
              "        async function convertToInteractive(key) {\n",
              "          const element = document.querySelector('#df-45364f83-8cc6-426f-b2e6-7fb72f7b5f34');\n",
              "          const dataTable =\n",
              "            await google.colab.kernel.invokeFunction('convertToInteractive',\n",
              "                                                     [key], {});\n",
              "          if (!dataTable) return;\n",
              "\n",
              "          const docLinkHtml = 'Like what you see? Visit the ' +\n",
              "            '<a target=\"_blank\" href=https://colab.research.google.com/notebooks/data_table.ipynb>data table notebook</a>'\n",
              "            + ' to learn more about interactive tables.';\n",
              "          element.innerHTML = '';\n",
              "          dataTable['output_type'] = 'display_data';\n",
              "          await google.colab.output.renderOutput(dataTable, element);\n",
              "          const docLink = document.createElement('div');\n",
              "          docLink.innerHTML = docLinkHtml;\n",
              "          element.appendChild(docLink);\n",
              "        }\n",
              "      </script>\n",
              "    </div>\n",
              "  </div>\n",
              "  "
            ]
          },
          "metadata": {},
          "execution_count": 24
        }
      ]
    },
    {
      "cell_type": "markdown",
      "source": [],
      "metadata": {
        "id": "h_1Nnxypp7K7"
      }
    },
    {
      "cell_type": "code",
      "source": [
        "# Check the shape of the data\n",
        "\n",
        "churn.shape"
      ],
      "metadata": {
        "colab": {
          "base_uri": "https://localhost:8080/"
        },
        "id": "clM8H5i3jYTm",
        "outputId": "5e4dc4f4-5f35-41ac-967c-bbbdadb50760"
      },
      "execution_count": 25,
      "outputs": [
        {
          "output_type": "execute_result",
          "data": {
            "text/plain": [
              "(10000, 14)"
            ]
          },
          "metadata": {},
          "execution_count": 25
        }
      ]
    },
    {
      "cell_type": "code",
      "source": [
        "# Check for missing data\n",
        "\n",
        "churn.isnull().sum()"
      ],
      "metadata": {
        "colab": {
          "base_uri": "https://localhost:8080/"
        },
        "id": "FKf2JjLykCi-",
        "outputId": "1a9150e6-d145-41d1-b310-014b7b1925b9"
      },
      "execution_count": 26,
      "outputs": [
        {
          "output_type": "execute_result",
          "data": {
            "text/plain": [
              "RowNumber            0\n",
              "CustomerId           0\n",
              "Surname              0\n",
              "CreditScore          0\n",
              "Geography            0\n",
              "Gender               0\n",
              "Age                  0\n",
              "Tenure             909\n",
              "Balance              0\n",
              "NumOfProducts        0\n",
              "HasCrCard            0\n",
              "IsActiveMember       0\n",
              "EstimatedSalary      0\n",
              "Exited               0\n",
              "dtype: int64"
            ]
          },
          "metadata": {},
          "execution_count": 26
        }
      ]
    },
    {
      "cell_type": "code",
      "source": [
        "# Drop the missing data and recheck\n",
        "\n",
        "churn.dropna(inplace = True)\n",
        "\n",
        "churn.isnull().sum()"
      ],
      "metadata": {
        "colab": {
          "base_uri": "https://localhost:8080/"
        },
        "id": "LXSYHmV0kOW_",
        "outputId": "50316bbe-4adb-45a6-d7eb-51b399e21d4b"
      },
      "execution_count": 27,
      "outputs": [
        {
          "output_type": "execute_result",
          "data": {
            "text/plain": [
              "RowNumber          0\n",
              "CustomerId         0\n",
              "Surname            0\n",
              "CreditScore        0\n",
              "Geography          0\n",
              "Gender             0\n",
              "Age                0\n",
              "Tenure             0\n",
              "Balance            0\n",
              "NumOfProducts      0\n",
              "HasCrCard          0\n",
              "IsActiveMember     0\n",
              "EstimatedSalary    0\n",
              "Exited             0\n",
              "dtype: int64"
            ]
          },
          "metadata": {},
          "execution_count": 27
        }
      ]
    },
    {
      "cell_type": "code",
      "source": [
        "# Check for duplicates\n",
        "\n",
        "churn.duplicated().sum()"
      ],
      "metadata": {
        "colab": {
          "base_uri": "https://localhost:8080/"
        },
        "id": "l2B-72MoqauK",
        "outputId": "6b699713-3833-40b1-9ca7-25c2dc3f54d3"
      },
      "execution_count": 28,
      "outputs": [
        {
          "output_type": "execute_result",
          "data": {
            "text/plain": [
              "0"
            ]
          },
          "metadata": {},
          "execution_count": 28
        }
      ]
    },
    {
      "cell_type": "markdown",
      "source": [
        "## 3. Splitting the data into training, validation and test sets"
      ],
      "metadata": {
        "id": "hVlJiu8ZmSGC"
      }
    },
    {
      "cell_type": "code",
      "source": [
        "churn['Balance'] = churn['Balance'] / 100000\n",
        "churn['EstimatedSalary'] = churn['EstimatedSalary'] / 100000\n",
        "#churn = churn.reset_index()\n",
        "\n",
        "features = churn.drop(['CustomerId', 'Surname', 'Geography', 'Gender', 'Exited'], axis = 1)\n",
        "target = churn['Exited']\n",
        "\n",
        "# Spliting the data into training, validation and test sets (ratio 60:20:20 used)\n",
        "# First split into 2, training and remainder\n",
        "\n",
        "features_train, features_remainder, target_train, target_remainder = train_test_split(\n",
        "    features, target, test_size=0.4, random_state=12345\n",
        ")\n",
        "\n",
        "# Proceed to split the remainder into validation and test sets\n",
        "\n",
        "features_valid, features_test, target_valid, target_test = train_test_split(\n",
        "    features_remainder, target_remainder, test_size=0.5, random_state=12345\n",
        ")\n",
        "\n",
        "print(features_train.shape)\n",
        "print(features_valid.shape)\n",
        "print(features_test.shape)\n",
        "print(target_train.shape)\n",
        "print(target_valid.shape)\n",
        "print(target_test.shape)\n",
        "\n"
      ],
      "metadata": {
        "colab": {
          "base_uri": "https://localhost:8080/"
        },
        "id": "e7MJCqo1mROj",
        "outputId": "3b3b38d1-928e-4793-d3cf-0643c42f4f52"
      },
      "execution_count": 29,
      "outputs": [
        {
          "output_type": "stream",
          "name": "stdout",
          "text": [
            "(5454, 9)\n",
            "(1818, 9)\n",
            "(1819, 9)\n",
            "(5454,)\n",
            "(1818,)\n",
            "(1819,)\n"
          ]
        }
      ]
    },
    {
      "cell_type": "markdown",
      "source": [
        "## 4. Check class balances"
      ],
      "metadata": {
        "id": "pgRMMGROq7bx"
      }
    },
    {
      "cell_type": "code",
      "source": [
        "# Check class balances\n",
        "\n",
        "churn['Exited'].value_counts()"
      ],
      "metadata": {
        "colab": {
          "base_uri": "https://localhost:8080/"
        },
        "id": "3VXjOFLswASW",
        "outputId": "b16bac5d-43d7-4039-d03a-850f0b7a881e"
      },
      "execution_count": 30,
      "outputs": [
        {
          "output_type": "execute_result",
          "data": {
            "text/plain": [
              "0    7237\n",
              "1    1854\n",
              "Name: Exited, dtype: int64"
            ]
          },
          "metadata": {},
          "execution_count": 30
        }
      ]
    },
    {
      "cell_type": "markdown",
      "source": [
        "Positive observations are way less than negative observations only accounting for 0.2 of the total."
      ],
      "metadata": {
        "id": "0PUjVG5i1riu"
      }
    },
    {
      "cell_type": "markdown",
      "source": [
        "## 5. Train the models without taking into consideration class imbalance"
      ],
      "metadata": {
        "id": "B0e_J5Cp2xx8"
      }
    },
    {
      "cell_type": "code",
      "source": [
        "# Train model and predict: Decision Tree\n",
        "\n",
        "for depth in range(1, 11, 1):\n",
        "  model = DecisionTreeClassifier(random_state=12345, max_depth = depth)\n",
        "  model.fit(features_train, target_train)\n",
        "\n",
        "  predicted_valid = model.predict(features_valid)\n",
        "  print(accuracy_score(target_valid, predicted_valid))\n",
        "\n"
      ],
      "metadata": {
        "colab": {
          "base_uri": "https://localhost:8080/"
        },
        "outputId": "1b64bcd0-32f9-4586-c2cb-a9825b002243",
        "id": "y7p7cyFb2vHr"
      },
      "execution_count": 31,
      "outputs": [
        {
          "output_type": "stream",
          "name": "stdout",
          "text": [
            "0.7926292629262927\n",
            "0.8305830583058306\n",
            "0.8333333333333334\n",
            "0.8509350935093509\n",
            "0.8558855885588559\n",
            "0.8498349834983498\n",
            "0.8415841584158416\n",
            "0.828932893289329\n",
            "0.8267326732673267\n",
            "0.8338833883388339\n"
          ]
        }
      ]
    },
    {
      "cell_type": "markdown",
      "source": [
        "Testing the Decision tree using various max depths, max_depth of 5 gives the best accuracy of 0.8558."
      ],
      "metadata": {
        "id": "xrhxrnWj4oUt"
      }
    },
    {
      "cell_type": "code",
      "source": [
        "# Train model and predict: Random Forest\n",
        "\n",
        "for estimator in range(10, 110, 10):\n",
        "  model = RandomForestClassifier(n_estimators=estimator, max_depth=5, random_state=12345)\n",
        "  model.fit(features_train, target_train)\n",
        "  predicted_valid = model.predict(features_valid)\n",
        "  print(accuracy_score(target_valid, predicted_valid))"
      ],
      "metadata": {
        "colab": {
          "base_uri": "https://localhost:8080/"
        },
        "id": "hPZXnhA15EEy",
        "outputId": "c7499b57-0703-422a-fb96-a73be1646f40"
      },
      "execution_count": 32,
      "outputs": [
        {
          "output_type": "stream",
          "name": "stdout",
          "text": [
            "0.8487348734873488\n",
            "0.8487348734873488\n",
            "0.8536853685368537\n",
            "0.8558855885588559\n",
            "0.8542354235423543\n",
            "0.8509350935093509\n",
            "0.8536853685368537\n",
            "0.8547854785478548\n",
            "0.8536853685368537\n",
            "0.8547854785478548\n"
          ]
        }
      ]
    },
    {
      "cell_type": "markdown",
      "source": [
        "Testing Random Forest model using various number of estimators and max_depth of 5, we find the best accuracy of 0.8558 at 30 trees."
      ],
      "metadata": {
        "id": "x4I9NT6z6MZ9"
      }
    },
    {
      "cell_type": "code",
      "source": [
        "# Train model and predict: LogisticRegression\n",
        "\n",
        "model = LogisticRegression(random_state=12345, solver='liblinear')\n",
        "model.fit(features_train, target_train)\n",
        "predicted_valid = model.predict(features_valid)\n",
        "print(accuracy_score(target_valid, predicted_valid))"
      ],
      "metadata": {
        "colab": {
          "base_uri": "https://localhost:8080/"
        },
        "id": "DaIKZf7b61TO",
        "outputId": "9c80e294-9bc6-455c-fa2c-199355c71b08"
      },
      "execution_count": 33,
      "outputs": [
        {
          "output_type": "stream",
          "name": "stdout",
          "text": [
            "0.8036303630363036\n"
          ]
        }
      ]
    },
    {
      "cell_type": "markdown",
      "source": [
        "Logistic Regression gives accuracy of 0.8036"
      ],
      "metadata": {
        "id": "ibBJga907Hz9"
      }
    },
    {
      "cell_type": "markdown",
      "source": [
        "## 6. Addressing the Class Imbalance:"
      ],
      "metadata": {
        "id": "3aB3SM4a7Qoo"
      }
    },
    {
      "cell_type": "markdown",
      "source": [
        "### a) Upsampling"
      ],
      "metadata": {
        "id": "chEa28Z_7aHB"
      }
    },
    {
      "cell_type": "code",
      "source": [
        "# Make the observations of the rare class less rare by repeating them several times over\n",
        "\n",
        "def upsample(features, target, repeat):\n",
        "    features_zeros = features[target == 0]\n",
        "    features_ones = features[target == 1]\n",
        "    target_zeros = target[target == 0]\n",
        "    target_ones = target[target == 1]\n",
        "\n",
        "    features_upsampled = pd.concat([features_zeros] + [features_ones] * repeat)\n",
        "    target_upsampled = pd.concat([target_zeros] + [target_ones] * repeat)\n",
        "\n",
        "    features_upsampled, target_upsampled = shuffle(\n",
        "        features_upsampled, target_upsampled, random_state=12345\n",
        "    )\n",
        "\n",
        "    return features_upsampled, target_upsampled\n",
        "\n",
        "\n",
        "features_upsampled, target_upsampled = upsample(\n",
        "    features_train, target_train, 10\n",
        ")\n",
        "\n",
        "print(features_upsampled.shape)\n",
        "print(target_upsampled.shape)"
      ],
      "metadata": {
        "colab": {
          "base_uri": "https://localhost:8080/"
        },
        "id": "FbDr-lTq7g27",
        "outputId": "0c50e319-2b56-4c4a-9996-e7c8f4976f36"
      },
      "execution_count": 34,
      "outputs": [
        {
          "output_type": "stream",
          "name": "stdout",
          "text": [
            "(15588, 9)\n",
            "(15588,)\n"
          ]
        }
      ]
    },
    {
      "cell_type": "markdown",
      "source": [
        "#### Train the different models using the upsampled data"
      ],
      "metadata": {
        "id": "2uCi5Gkg9V8O"
      }
    },
    {
      "cell_type": "code",
      "source": [
        "# Train model and predict: Decision Tree\n",
        "\n",
        "model = DecisionTreeClassifier(random_state=12345, max_depth = 2)\n",
        "model.fit(features_upsampled, target_upsampled)\n",
        "\n",
        "predicted_valid = model.predict(features_valid)\n",
        "print('F1:', f1_score(target_valid, predicted_valid))"
      ],
      "metadata": {
        "colab": {
          "base_uri": "https://localhost:8080/"
        },
        "id": "NCtOfJOG9T72",
        "outputId": "823fe5c0-8a87-402c-afba-30f7b51e1c74"
      },
      "execution_count": 35,
      "outputs": [
        {
          "output_type": "stream",
          "name": "stdout",
          "text": [
            "F1: 0.5100788781770377\n"
          ]
        }
      ]
    },
    {
      "cell_type": "code",
      "source": [
        "# Train model and predict: Random Forest\n",
        "\n",
        "model = RandomForestClassifier(n_estimators=110, max_depth=15, random_state=12345)\n",
        "model.fit(features_upsampled, target_upsampled)\n",
        "predicted_valid = model.predict(features_valid)\n",
        "print('F1:', f1_score(target_valid, predicted_valid))"
      ],
      "metadata": {
        "colab": {
          "base_uri": "https://localhost:8080/"
        },
        "id": "ihj1WZzJ9_eW",
        "outputId": "1e343475-d2a0-4ff8-a602-825c0602ac89"
      },
      "execution_count": 36,
      "outputs": [
        {
          "output_type": "stream",
          "name": "stdout",
          "text": [
            "F1: 0.5830429732868757\n"
          ]
        }
      ]
    },
    {
      "cell_type": "code",
      "source": [
        "# Train model and predict: LogisticRegression\n",
        "\n",
        "model = LogisticRegression(random_state=12345, solver='liblinear')\n",
        "model.fit(features_upsampled, target_upsampled)\n",
        "predicted_valid = model.predict(features_valid)\n",
        "print('F1:', f1_score(target_valid, predicted_valid))"
      ],
      "metadata": {
        "colab": {
          "base_uri": "https://localhost:8080/"
        },
        "id": "rT-nFt6J_8TN",
        "outputId": "dec0cc2f-c422-4ef1-e67f-2c5fdca757d7"
      },
      "execution_count": 37,
      "outputs": [
        {
          "output_type": "stream",
          "name": "stdout",
          "text": [
            "F1: 0.3977961432506887\n"
          ]
        }
      ]
    },
    {
      "cell_type": "markdown",
      "source": [
        "The best F1 of 0.583 is obtained using Random Forest method with 100 estimators and max_depth of 15."
      ],
      "metadata": {
        "id": "XxfR66aJANAO"
      }
    },
    {
      "cell_type": "markdown",
      "source": [
        "### b) Downsampling:"
      ],
      "metadata": {
        "id": "YVbNY4QLAjPG"
      }
    },
    {
      "cell_type": "code",
      "source": [
        "# Make the observations of the most frequent class less frequent by applying a fraction:\n",
        "\n",
        "def downsample(features, target, fraction):\n",
        "    features_zeros = features[target == 0]\n",
        "    features_ones = features[target == 1]\n",
        "    target_zeros = target[target == 0]\n",
        "    target_ones = target[target == 1]\n",
        "\n",
        "    features_downsampled = pd.concat(\n",
        "[features_zeros.sample(frac=fraction, random_state=12345)] + [features_ones])\n",
        "    target_downsampled = pd.concat(\n",
        "[target_zeros.sample(frac=fraction, random_state=12345)] + [target_ones])\n",
        "\n",
        "    return features_downsampled, target_downsampled\n",
        "\n",
        "\n",
        "features_downsampled, target_downsampled = downsample(\n",
        "    features_train, target_train, 0.1\n",
        ")\n",
        "\n",
        "print(features_downsampled.shape)\n",
        "print(target_downsampled.shape)\n",
        "\n"
      ],
      "metadata": {
        "colab": {
          "base_uri": "https://localhost:8080/"
        },
        "id": "szi64TxsAoMO",
        "outputId": "7a103f6f-e3dd-4af5-f392-8da5b0102e0f"
      },
      "execution_count": 38,
      "outputs": [
        {
          "output_type": "stream",
          "name": "stdout",
          "text": [
            "(1559, 9)\n",
            "(1559,)\n"
          ]
        }
      ]
    },
    {
      "cell_type": "markdown",
      "source": [
        "#### Train the different models using the downsampled data"
      ],
      "metadata": {
        "id": "Lqyf9IarBm4G"
      }
    },
    {
      "cell_type": "code",
      "source": [
        "# Train model and predict: Decision Tree\n",
        "\n",
        "model = DecisionTreeClassifier(random_state=12345, max_depth = 4)\n",
        "model.fit(features_downsampled, target_downsampled)\n",
        "predicted_valid = model.predict(features_valid)\n",
        "\n",
        "print('F1:', f1_score(target_valid, predicted_valid))\n",
        "\n",
        "\n"
      ],
      "metadata": {
        "colab": {
          "base_uri": "https://localhost:8080/"
        },
        "id": "YseF6uwYBqyG",
        "outputId": "f0db04b7-9da9-43aa-cde8-9d282560e14d"
      },
      "execution_count": 39,
      "outputs": [
        {
          "output_type": "stream",
          "name": "stdout",
          "text": [
            "F1: 0.4705046197583511\n"
          ]
        }
      ]
    },
    {
      "cell_type": "code",
      "source": [
        "# Train model and predict: Random Forest\n",
        "\n",
        "model = RandomForestClassifier(n_estimators=50, max_depth=15, random_state=12345)\n",
        "model.fit(features_downsampled, target_downsampled)\n",
        "predicted_valid = model.predict(features_valid)\n",
        "print('F1:', f1_score(target_valid, predicted_valid))"
      ],
      "metadata": {
        "colab": {
          "base_uri": "https://localhost:8080/"
        },
        "id": "aoCPmzpiC8b4",
        "outputId": "56f93b4d-3221-452a-e213-0427a66572ff"
      },
      "execution_count": 40,
      "outputs": [
        {
          "output_type": "stream",
          "name": "stdout",
          "text": [
            "F1: 0.45448676565526147\n"
          ]
        }
      ]
    },
    {
      "cell_type": "code",
      "source": [
        "# Train model and predict: LogisticRegression\n",
        "\n",
        "model = LogisticRegression(random_state=12345, solver='liblinear')\n",
        "model.fit(features_downsampled, target_downsampled)\n",
        "predicted_valid = model.predict(features_valid)\n",
        "print('F1:', f1_score(target_valid, predicted_valid))"
      ],
      "metadata": {
        "colab": {
          "base_uri": "https://localhost:8080/"
        },
        "id": "bK6wTKLVD6Y7",
        "outputId": "07b0039c-7943-4695-9c0b-e295b6a53dae"
      },
      "execution_count": 41,
      "outputs": [
        {
          "output_type": "stream",
          "name": "stdout",
          "text": [
            "F1: 0.3901907356948229\n"
          ]
        }
      ]
    },
    {
      "cell_type": "markdown",
      "source": [
        "All the 3 models give poorer F1 scores when downsampling is used to address the class imbalance as opposed to when upsampling is used. Therefore upsampling in this case addresses the class imbalance better. The best model is Random Forest."
      ],
      "metadata": {
        "id": "--DoVSk_EE_x"
      }
    },
    {
      "cell_type": "markdown",
      "source": [
        "## 7. Check the AUC-ROC:"
      ],
      "metadata": {
        "id": "2DFz83THFvwO"
      }
    },
    {
      "cell_type": "code",
      "source": [
        "# Check  the AUC-ROC for Random Forest using the upsampled data.\n",
        "\n",
        "model = RandomForestClassifier(n_estimators=110, max_depth=15, random_state=12345)\n",
        "model.fit(features_upsampled, target_upsampled)\n",
        "\n",
        "probabilities_valid = model.predict_proba(features_valid)\n",
        "probabilities_one_valid = probabilities_valid[:, 1]\n",
        "auc_roc = roc_auc_score(target_valid, probabilities_one_valid)\n",
        "\n",
        "print(auc_roc)"
      ],
      "metadata": {
        "colab": {
          "base_uri": "https://localhost:8080/"
        },
        "id": "Vti0OvpBF2BW",
        "outputId": "c6265d9f-b5e7-4122-e032-1406a99f1d6d"
      },
      "execution_count": 42,
      "outputs": [
        {
          "output_type": "stream",
          "name": "stdout",
          "text": [
            "0.8277905300806065\n"
          ]
        }
      ]
    },
    {
      "cell_type": "markdown",
      "source": [
        "The AUC-ROC model is 0.8277 which is way better than the F1 of 0.5830."
      ],
      "metadata": {
        "id": "VUdswm9EGTY0"
      }
    },
    {
      "cell_type": "markdown",
      "source": [
        "## 8. Finally test the model using the test data set."
      ],
      "metadata": {
        "id": "Pv6LUOmZGnKu"
      }
    },
    {
      "cell_type": "code",
      "source": [
        "# Test the model using test data set: Random Forest\n",
        "\n",
        "model = RandomForestClassifier(n_estimators=110, max_depth=15, random_state=12345)\n",
        "model.fit(features_upsampled, target_upsampled)\n",
        "predicted_test = model.predict(features_test)\n",
        "print('F1:', f1_score(target_test, predicted_test))"
      ],
      "metadata": {
        "colab": {
          "base_uri": "https://localhost:8080/"
        },
        "id": "kNMiFd8rGvbl",
        "outputId": "f89796c9-4ea8-4947-e66b-0abfac50b8a9"
      },
      "execution_count": 43,
      "outputs": [
        {
          "output_type": "stream",
          "name": "stdout",
          "text": [
            "F1: 0.5429292929292929\n"
          ]
        }
      ]
    },
    {
      "cell_type": "markdown",
      "source": [
        "An F1 score of 0.5429 is obtained when the model is tested using the test data set."
      ],
      "metadata": {
        "id": "Q7MkgHyFHLKS"
      }
    }
  ]
}